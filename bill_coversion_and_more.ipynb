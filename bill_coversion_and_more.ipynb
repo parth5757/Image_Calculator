{
  "cells": [
    {
      "cell_type": "markdown",
      "metadata": {
        "id": "view-in-github",
        "colab_type": "text"
      },
      "source": [
        "<a href=\"https://colab.research.google.com/github/parth5757/Image_Calculator/blob/main/bill_coversion_and_more.ipynb\" target=\"_parent\"><img src=\"https://colab.research.google.com/assets/colab-badge.svg\" alt=\"Open In Colab\"/></a>"
      ]
    },
    {
      "cell_type": "code",
      "execution_count": 2,
      "metadata": {
        "colab": {
          "base_uri": "https://localhost:8080/"
        },
        "id": "ifiwgyZyOFS7",
        "outputId": "0b1de761-1e8b-4398-815a-29e62e52b1b8"
      },
      "outputs": [
        {
          "output_type": "stream",
          "name": "stdout",
          "text": [
            "Requirement already satisfied: pillow in /usr/local/lib/python3.11/dist-packages (11.3.0)\n",
            "Collecting pyheif\n",
            "  Downloading pyheif-0.8.0-cp311-cp311-manylinux_2_17_x86_64.manylinux2014_x86_64.whl.metadata (4.7 kB)\n",
            "Requirement already satisfied: cffi>=1.0.0 in /usr/local/lib/python3.11/dist-packages (from pyheif) (1.17.1)\n",
            "Requirement already satisfied: pycparser in /usr/local/lib/python3.11/dist-packages (from cffi>=1.0.0->pyheif) (2.22)\n",
            "Downloading pyheif-0.8.0-cp311-cp311-manylinux_2_17_x86_64.manylinux2014_x86_64.whl (5.3 MB)\n",
            "\u001b[2K   \u001b[90m━━━━━━━━━━━━━━━━━━━━━━━━━━━━━━━━━━━━━━━━\u001b[0m \u001b[32m5.3/5.3 MB\u001b[0m \u001b[31m49.2 MB/s\u001b[0m eta \u001b[36m0:00:00\u001b[0m\n",
            "\u001b[?25hInstalling collected packages: pyheif\n",
            "Successfully installed pyheif-0.8.0\n"
          ]
        }
      ],
      "source": [
        "!pip install pillow\n",
        "!pip install pyheif"
      ]
    },
    {
      "cell_type": "code",
      "execution_count": 3,
      "metadata": {
        "colab": {
          "base_uri": "https://localhost:8080/"
        },
        "id": "qv9OfPuc59YN",
        "outputId": "1a184415-ecfd-4381-8111-a434095f0bf7"
      },
      "outputs": [
        {
          "output_type": "stream",
          "name": "stdout",
          "text": [
            "Mounted at /content/drive\n"
          ]
        }
      ],
      "source": [
        "# connect google drive with the colab\n",
        "from google.colab import drive\n",
        "import os\n",
        "import pyheif\n",
        "from PIL import Image\n",
        "drive.mount('/content/drive')"
      ]
    },
    {
      "cell_type": "code",
      "source": [
        "import cv2\n",
        "import matplotlib.pyplot as plt\n",
        "import zipfile"
      ],
      "metadata": {
        "id": "oWMgXFRHWgPr"
      },
      "execution_count": 4,
      "outputs": []
    },
    {
      "cell_type": "code",
      "execution_count": null,
      "metadata": {
        "colab": {
          "base_uri": "https://localhost:8080/"
        },
        "id": "cxFivlX_-D6_",
        "outputId": "1a2763f4-7347-48cf-fe13-a21f8ce2ac1b"
      },
      "outputs": [
        {
          "name": "stdout",
          "output_type": "stream",
          "text": [
            "20250709_211255.heic  20250710_095436.heic  20250714_080324.heic\n",
            "20250709_211335.heic  20250710_095443.heic  20250714_080334.heic\n",
            "20250709_211351.heic  20250710_095521.heic  20250714_080342.heic\n",
            "20250709_211403.heic  20250710_095528.heic  20250714_080354.heic\n",
            "20250709_211411.heic  20250710_095547.heic  20250714_080453.heic\n",
            "20250709_211428.heic  20250710_095557.heic  20250714_080500.heic\n",
            "20250709_211626.heic  20250710_095604.heic  20250714_080510.heic\n",
            "20250709_211705.heic  20250710_095612.heic  20250714_080518.heic\n",
            "20250709_211723.heic  20250710_095621.heic  20250714_080529.heic\n",
            "20250709_211735.heic  20250710_095632.heic  20250714_080536.heic\n",
            "20250709_211756.heic  20250710_095640.heic  20250714_080543.heic\n",
            "20250709_211806.heic  20250710_095647.heic  20250714_080551.heic\n",
            "20250709_211825.heic  20250710_095653.heic  20250714_080558.heic\n",
            "20250709_211850.heic  20250710_095659.heic  20250714_080604.heic\n",
            "20250709_211906.heic  20250710_095706.heic  20250714_080614.heic\n",
            "20250709_211919.heic  20250710_095713.heic  20250714_080624.heic\n",
            "20250709_211930.heic  20250710_095719.heic  20250714_080634.heic\n",
            "20250709_211951.heic  20250710_095725.heic  20250714_080642.heic\n",
            "20250709_212000.heic  20250710_095734.heic  20250714_080731.heic\n",
            "20250709_212008.heic  20250710_095739.heic  20250714_080738.heic\n",
            "20250709_212019.heic  20250710_095743.heic  20250714_080745.heic\n",
            "20250709_212026.heic  20250710_095749.heic  20250714_080752.heic\n",
            "20250709_212035.heic  20250710_095814.heic  20250714_080759.heic\n",
            "20250709_212044.heic  20250714_073621.heic  20250714_080806.heic\n",
            "20250709_212058.heic  20250714_073649.heic  20250714_080814.heic\n",
            "20250709_212121.heic  20250714_073703.heic  20250714_080822.heic\n",
            "20250709_212136.heic  20250714_074749.heic  20250714_080829.heic\n",
            "20250709_212153.heic  20250714_074758.heic  20250714_080842.heic\n",
            "20250709_212203.heic  20250714_074808.heic  20250714_080848.heic\n",
            "20250709_212210.heic  20250714_074816.heic  20250714_080904.heic\n",
            "20250709_212217.heic  20250714_074825.heic  20250714_080929.heic\n",
            "20250709_212224.heic  20250714_074838.heic  20250716_065204.heic\n",
            "20250709_212320.heic  20250714_074845.heic  20250716_065220.heic\n",
            "20250709_212327.heic  20250714_074857.heic  20250716_065944.heic\n",
            "20250709_212338.heic  20250714_074908.heic  20250716_070034.heic\n",
            "20250709_212351.heic  20250714_074918.heic  20250716_070054.heic\n",
            "20250709_212407.heic  20250714_074926.heic  20250716_070119.heic\n",
            "20250709_212414.heic  20250714_074933.heic  20250716_070131.heic\n",
            "20250709_212439.heic  20250714_075237.heic  20250716_070146.heic\n",
            "20250709_212449.heic  20250714_075249.heic  20250716_070157.heic\n",
            "20250709_212456.heic  20250714_075301.heic  20250716_070208.heic\n",
            "20250709_212510.heic  20250714_075309.heic  20250716_070218.heic\n",
            "20250709_212518.heic  20250714_075319.heic  20250716_070233.heic\n",
            "20250709_212532.heic  20250714_075330.heic  20250716_070241.heic\n",
            "20250709_212541.heic  20250714_075341.heic  20250716_070254.heic\n",
            "20250709_212550.heic  20250714_075353.heic  20250716_070305.heic\n",
            "20250709_212610.heic  20250714_075403.heic  20250716_070331.heic\n",
            "20250709_212628.heic  20250714_075414.heic  20250716_070341.heic\n",
            "20250709_212636.heic  20250714_075421.heic  20250716_070350.heic\n",
            "20250709_212645.heic  20250714_075430.heic  20250716_070357.heic\n",
            "20250709_212702.heic  20250714_075758.heic  20250716_070455.heic\n",
            "20250709_212711.heic  20250714_075819.heic  20250716_070505.heic\n",
            "20250709_212720.heic  20250714_075829.heic  20250716_070514.heic\n",
            "20250709_212737.heic  20250714_075837.heic  20250716_070523.heic\n",
            "20250709_212749.heic  20250714_075846.heic  20250716_070538.heic\n",
            "20250709_212756.heic  20250714_075854.heic  20250716_070547.heic\n",
            "20250709_212806.heic  20250714_080001.heic  20250716_070555.heic\n",
            "20250709_212813.heic  20250714_080009.heic  20250716_070603.heic\n",
            "20250709_212823.heic  20250714_080016.heic  20250716_070616.heic\n",
            "20250709_212832.heic  20250714_080033.heic  20250716_070626.heic\n",
            "20250709_212844.heic  20250714_080040.heic  20250716_070637.heic\n",
            "20250709_212900.heic  20250714_080047.heic  20250716_070652.heic\n",
            "20250709_212924.heic  20250714_080054.heic  20250716_070701.heic\n",
            "20250709_212933.heic  20250714_080102.heic  20250716_070709.heic\n",
            "20250709_212950.heic  20250714_080109.heic  20250716_070732.heic\n",
            "20250709_213009.heic  20250714_080118.heic  20250716_070740.heic\n",
            "20250709_213022.heic  20250714_080229.heic  20250716_070748.heic\n",
            "20250709_213158.heic  20250714_080240.heic  20250716_070759.heic\n",
            "20250709_213238.heic  20250714_080248.heic  pc\n",
            "20250710_095423.heic  20250714_080306.heic\n",
            "20250710_095431.heic  20250714_080315.heic\n"
          ]
        }
      ],
      "source": [
        "!ls 'drive/My Drive/Gujarati_bill_datasets'"
      ]
    },
    {
      "cell_type": "code",
      "execution_count": null,
      "metadata": {
        "id": "PETVs-MKOP6b"
      },
      "outputs": [],
      "source": [
        "input_folder = '/content/drive/MyDrive/Gujarati_bill_datasets/'\n",
        "output_folder = '/content/drive/MyDrive/New_Gujarati_bill_datasets/'\n",
        "# !ls '{input_folder}'\n",
        "# !ls '{output_folder}'"
      ]
    },
    {
      "cell_type": "code",
      "execution_count": null,
      "metadata": {
        "colab": {
          "base_uri": "https://localhost:8080/"
        },
        "id": "g0n9JnkePhl-",
        "outputId": "484a0c30-bcbb-4fd0-a5de-d2ddbb6130c0"
      },
      "outputs": [
        {
          "name": "stdout",
          "output_type": "stream",
          "text": [
            "Converted 20250716_070759.heic to 20250716_070759.jpg\n",
            "Converted 20250716_070748.heic to 20250716_070748.jpg\n",
            "Converted 20250716_070740.heic to 20250716_070740.jpg\n",
            "Converted 20250716_070732.heic to 20250716_070732.jpg\n",
            "Converted 20250716_070709.heic to 20250716_070709.jpg\n",
            "Converted 20250716_070701.heic to 20250716_070701.jpg\n",
            "Converted 20250716_070652.heic to 20250716_070652.jpg\n",
            "Converted 20250716_070637.heic to 20250716_070637.jpg\n",
            "Converted 20250716_070626.heic to 20250716_070626.jpg\n",
            "Converted 20250716_070616.heic to 20250716_070616.jpg\n",
            "Converted 20250716_070603.heic to 20250716_070603.jpg\n",
            "Converted 20250716_070555.heic to 20250716_070555.jpg\n",
            "Converted 20250716_070547.heic to 20250716_070547.jpg\n",
            "Converted 20250716_070538.heic to 20250716_070538.jpg\n",
            "Converted 20250716_070523.heic to 20250716_070523.jpg\n",
            "Converted 20250716_070514.heic to 20250716_070514.jpg\n",
            "Converted 20250716_070505.heic to 20250716_070505.jpg\n",
            "Converted 20250716_070455.heic to 20250716_070455.jpg\n",
            "Converted 20250716_070357.heic to 20250716_070357.jpg\n",
            "Converted 20250716_070350.heic to 20250716_070350.jpg\n",
            "Converted 20250716_070341.heic to 20250716_070341.jpg\n",
            "Converted 20250716_070331.heic to 20250716_070331.jpg\n",
            "Converted 20250716_070305.heic to 20250716_070305.jpg\n",
            "Converted 20250716_070254.heic to 20250716_070254.jpg\n",
            "Converted 20250716_070241.heic to 20250716_070241.jpg\n",
            "Converted 20250716_070233.heic to 20250716_070233.jpg\n",
            "Converted 20250716_070218.heic to 20250716_070218.jpg\n",
            "Converted 20250716_070208.heic to 20250716_070208.jpg\n",
            "Converted 20250716_070157.heic to 20250716_070157.jpg\n",
            "Converted 20250716_070146.heic to 20250716_070146.jpg\n",
            "Converted 20250716_070131.heic to 20250716_070131.jpg\n",
            "Converted 20250716_070119.heic to 20250716_070119.jpg\n",
            "Converted 20250716_070054.heic to 20250716_070054.jpg\n",
            "Converted 20250716_070034.heic to 20250716_070034.jpg\n",
            "Converted 20250716_065944.heic to 20250716_065944.jpg\n",
            "Converted 20250716_065220.heic to 20250716_065220.jpg\n",
            "Converted 20250716_065204.heic to 20250716_065204.jpg\n",
            "Converted 20250714_080929.heic to 20250714_080929.jpg\n",
            "Converted 20250714_080848.heic to 20250714_080848.jpg\n",
            "Converted 20250714_080904.heic to 20250714_080904.jpg\n",
            "Converted 20250714_080842.heic to 20250714_080842.jpg\n",
            "Converted 20250714_080822.heic to 20250714_080822.jpg\n",
            "Converted 20250714_080759.heic to 20250714_080759.jpg\n",
            "Converted 20250714_080752.heic to 20250714_080752.jpg\n",
            "Converted 20250714_080738.heic to 20250714_080738.jpg\n",
            "Converted 20250714_080731.heic to 20250714_080731.jpg\n",
            "Converted 20250714_080634.heic to 20250714_080634.jpg\n",
            "Converted 20250714_080624.heic to 20250714_080624.jpg\n",
            "Converted 20250714_080604.heic to 20250714_080604.jpg\n",
            "Converted 20250714_080558.heic to 20250714_080558.jpg\n",
            "Converted 20250714_080543.heic to 20250714_080543.jpg\n",
            "Converted 20250714_075837.heic to 20250714_075837.jpg\n",
            "Converted 20250714_075829.heic to 20250714_075829.jpg\n",
            "Converted 20250714_075819.heic to 20250714_075819.jpg\n",
            "Converted 20250714_075758.heic to 20250714_075758.jpg\n",
            "Converted 20250714_075430.heic to 20250714_075430.jpg\n",
            "Converted 20250714_075421.heic to 20250714_075421.jpg\n",
            "Converted 20250714_075414.heic to 20250714_075414.jpg\n",
            "Converted 20250714_075403.heic to 20250714_075403.jpg\n",
            "Converted 20250714_075353.heic to 20250714_075353.jpg\n",
            "Converted 20250714_075301.heic to 20250714_075301.jpg\n",
            "Converted 20250714_075249.heic to 20250714_075249.jpg\n",
            "Converted 20250714_075237.heic to 20250714_075237.jpg\n",
            "Converted 20250714_074933.heic to 20250714_074933.jpg\n",
            "Converted 20250714_074926.heic to 20250714_074926.jpg\n",
            "Converted 20250714_074918.heic to 20250714_074918.jpg\n",
            "Converted 20250714_074908.heic to 20250714_074908.jpg\n",
            "Converted 20250714_074857.heic to 20250714_074857.jpg\n",
            "Converted 20250714_074845.heic to 20250714_074845.jpg\n",
            "Converted 20250714_074838.heic to 20250714_074838.jpg\n",
            "Converted 20250714_074825.heic to 20250714_074825.jpg\n",
            "Converted 20250714_074816.heic to 20250714_074816.jpg\n",
            "Converted 20250714_074808.heic to 20250714_074808.jpg\n",
            "Converted 20250714_074758.heic to 20250714_074758.jpg\n",
            "Converted 20250714_074749.heic to 20250714_074749.jpg\n",
            "Converted 20250714_073621.heic to 20250714_073621.jpg\n",
            "Converted 20250714_073703.heic to 20250714_073703.jpg\n",
            "Converted 20250714_073649.heic to 20250714_073649.jpg\n",
            "Converted 20250714_080814.heic to 20250714_080814.jpg\n",
            "Converted 20250714_080806.heic to 20250714_080806.jpg\n",
            "Converted 20250714_080829.heic to 20250714_080829.jpg\n",
            "Converted 20250714_080745.heic to 20250714_080745.jpg\n",
            "Converted 20250714_080642.heic to 20250714_080642.jpg\n",
            "Converted 20250714_080614.heic to 20250714_080614.jpg\n",
            "Converted 20250714_080551.heic to 20250714_080551.jpg\n",
            "Converted 20250714_080536.heic to 20250714_080536.jpg\n",
            "Converted 20250714_080529.heic to 20250714_080529.jpg\n",
            "Converted 20250714_080518.heic to 20250714_080518.jpg\n",
            "Converted 20250714_080510.heic to 20250714_080510.jpg\n",
            "Converted 20250714_080500.heic to 20250714_080500.jpg\n",
            "Converted 20250714_080453.heic to 20250714_080453.jpg\n",
            "Converted 20250714_080354.heic to 20250714_080354.jpg\n",
            "Converted 20250714_080342.heic to 20250714_080342.jpg\n",
            "Converted 20250714_080334.heic to 20250714_080334.jpg\n",
            "Converted 20250714_080315.heic to 20250714_080315.jpg\n",
            "Converted 20250714_080306.heic to 20250714_080306.jpg\n",
            "Converted 20250714_080248.heic to 20250714_080248.jpg\n",
            "Converted 20250714_080240.heic to 20250714_080240.jpg\n",
            "Converted 20250714_080229.heic to 20250714_080229.jpg\n",
            "Converted 20250714_080118.heic to 20250714_080118.jpg\n",
            "Converted 20250714_080109.heic to 20250714_080109.jpg\n",
            "Converted 20250714_080102.heic to 20250714_080102.jpg\n",
            "Converted 20250714_080054.heic to 20250714_080054.jpg\n",
            "Converted 20250714_080047.heic to 20250714_080047.jpg\n",
            "Converted 20250714_080324.heic to 20250714_080324.jpg\n",
            "Converted 20250714_080040.heic to 20250714_080040.jpg\n",
            "Converted 20250714_080033.heic to 20250714_080033.jpg\n",
            "Converted 20250714_080016.heic to 20250714_080016.jpg\n",
            "Converted 20250714_080009.heic to 20250714_080009.jpg\n",
            "Converted 20250714_080001.heic to 20250714_080001.jpg\n",
            "Converted 20250714_075854.heic to 20250714_075854.jpg\n",
            "Converted 20250714_075846.heic to 20250714_075846.jpg\n",
            "Converted 20250714_075341.heic to 20250714_075341.jpg\n",
            "Converted 20250714_075330.heic to 20250714_075330.jpg\n",
            "Converted 20250714_075319.heic to 20250714_075319.jpg\n",
            "Converted 20250714_075309.heic to 20250714_075309.jpg\n",
            "Converted 20250710_095814.heic to 20250710_095814.jpg\n",
            "Converted 20250710_095743.heic to 20250710_095743.jpg\n",
            "Converted 20250710_095739.heic to 20250710_095739.jpg\n",
            "Converted 20250710_095749.heic to 20250710_095749.jpg\n",
            "Converted 20250710_095734.heic to 20250710_095734.jpg\n",
            "Converted 20250710_095725.heic to 20250710_095725.jpg\n",
            "Converted 20250710_095719.heic to 20250710_095719.jpg\n",
            "Converted 20250710_095713.heic to 20250710_095713.jpg\n",
            "Converted 20250710_095706.heic to 20250710_095706.jpg\n",
            "Converted 20250710_095659.heic to 20250710_095659.jpg\n",
            "Converted 20250710_095653.heic to 20250710_095653.jpg\n",
            "Converted 20250710_095647.heic to 20250710_095647.jpg\n",
            "Converted 20250710_095640.heic to 20250710_095640.jpg\n",
            "Converted 20250710_095632.heic to 20250710_095632.jpg\n",
            "Converted 20250710_095621.heic to 20250710_095621.jpg\n",
            "Converted 20250710_095612.heic to 20250710_095612.jpg\n",
            "Converted 20250710_095604.heic to 20250710_095604.jpg\n",
            "Converted 20250710_095557.heic to 20250710_095557.jpg\n",
            "Converted 20250710_095547.heic to 20250710_095547.jpg\n",
            "Converted 20250710_095528.heic to 20250710_095528.jpg\n",
            "Converted 20250710_095521.heic to 20250710_095521.jpg\n",
            "Converted 20250710_095443.heic to 20250710_095443.jpg\n",
            "Converted 20250710_095436.heic to 20250710_095436.jpg\n",
            "Converted 20250710_095431.heic to 20250710_095431.jpg\n",
            "Converted 20250710_095423.heic to 20250710_095423.jpg\n",
            "Converted 20250709_212026.heic to 20250709_212026.jpg\n",
            "Converted 20250709_212035.heic to 20250709_212035.jpg\n",
            "Converted 20250709_212044.heic to 20250709_212044.jpg\n",
            "Converted 20250709_212058.heic to 20250709_212058.jpg\n",
            "Converted 20250709_212121.heic to 20250709_212121.jpg\n",
            "Converted 20250709_212136.heic to 20250709_212136.jpg\n",
            "Converted 20250709_212153.heic to 20250709_212153.jpg\n",
            "Converted 20250709_212203.heic to 20250709_212203.jpg\n",
            "Converted 20250709_212210.heic to 20250709_212210.jpg\n",
            "Converted 20250709_212217.heic to 20250709_212217.jpg\n",
            "Converted 20250709_212224.heic to 20250709_212224.jpg\n",
            "Converted 20250709_212320.heic to 20250709_212320.jpg\n",
            "Converted 20250709_212327.heic to 20250709_212327.jpg\n",
            "Converted 20250709_212541.heic to 20250709_212541.jpg\n",
            "Converted 20250709_212532.heic to 20250709_212532.jpg\n",
            "Converted 20250709_212518.heic to 20250709_212518.jpg\n",
            "Converted 20250709_212510.heic to 20250709_212510.jpg\n",
            "Converted 20250709_212456.heic to 20250709_212456.jpg\n",
            "Converted 20250709_212449.heic to 20250709_212449.jpg\n",
            "Converted 20250709_212439.heic to 20250709_212439.jpg\n",
            "Converted 20250709_212414.heic to 20250709_212414.jpg\n",
            "Converted 20250709_212407.heic to 20250709_212407.jpg\n",
            "Converted 20250709_212351.heic to 20250709_212351.jpg\n",
            "Converted 20250709_212338.heic to 20250709_212338.jpg\n",
            "Converted 20250709_212950.heic to 20250709_212950.jpg\n",
            "Converted 20250709_212933.heic to 20250709_212933.jpg\n",
            "Converted 20250709_212924.heic to 20250709_212924.jpg\n",
            "Converted 20250709_212900.heic to 20250709_212900.jpg\n",
            "Converted 20250709_212844.heic to 20250709_212844.jpg\n",
            "Converted 20250709_212832.heic to 20250709_212832.jpg\n",
            "Converted 20250709_212823.heic to 20250709_212823.jpg\n",
            "Converted 20250709_212813.heic to 20250709_212813.jpg\n",
            "Converted 20250709_212806.heic to 20250709_212806.jpg\n",
            "Converted 20250709_212756.heic to 20250709_212756.jpg\n",
            "Converted 20250709_212749.heic to 20250709_212749.jpg\n",
            "Converted 20250709_212737.heic to 20250709_212737.jpg\n",
            "Converted 20250709_212720.heic to 20250709_212720.jpg\n",
            "Converted 20250709_212711.heic to 20250709_212711.jpg\n",
            "Converted 20250709_212702.heic to 20250709_212702.jpg\n",
            "Converted 20250709_212645.heic to 20250709_212645.jpg\n",
            "Converted 20250709_212636.heic to 20250709_212636.jpg\n",
            "Converted 20250709_212628.heic to 20250709_212628.jpg\n",
            "Converted 20250709_212610.heic to 20250709_212610.jpg\n",
            "Converted 20250709_212550.heic to 20250709_212550.jpg\n",
            "Converted 20250709_213238.heic to 20250709_213238.jpg\n",
            "Converted 20250709_213158.heic to 20250709_213158.jpg\n",
            "Converted 20250709_213022.heic to 20250709_213022.jpg\n",
            "Converted 20250709_213009.heic to 20250709_213009.jpg\n",
            "Converted 20250709_212019.heic to 20250709_212019.jpg\n",
            "Converted 20250709_212008.heic to 20250709_212008.jpg\n",
            "Converted 20250709_212000.heic to 20250709_212000.jpg\n",
            "Converted 20250709_211951.heic to 20250709_211951.jpg\n",
            "Converted 20250709_211930.heic to 20250709_211930.jpg\n",
            "Converted 20250709_211919.heic to 20250709_211919.jpg\n",
            "Converted 20250709_211906.heic to 20250709_211906.jpg\n",
            "Converted 20250709_211850.heic to 20250709_211850.jpg\n",
            "Converted 20250709_211825.heic to 20250709_211825.jpg\n",
            "Converted 20250709_211806.heic to 20250709_211806.jpg\n",
            "Converted 20250709_211756.heic to 20250709_211756.jpg\n",
            "Converted 20250709_211735.heic to 20250709_211735.jpg\n",
            "Converted 20250709_211723.heic to 20250709_211723.jpg\n",
            "Converted 20250709_211705.heic to 20250709_211705.jpg\n",
            "Converted 20250709_211626.heic to 20250709_211626.jpg\n",
            "Converted 20250709_211428.heic to 20250709_211428.jpg\n",
            "Converted 20250709_211411.heic to 20250709_211411.jpg\n",
            "Converted 20250709_211403.heic to 20250709_211403.jpg\n",
            "Converted 20250709_211351.heic to 20250709_211351.jpg\n",
            "Converted 20250709_211335.heic to 20250709_211335.jpg\n",
            "Converted 20250709_211255.heic to 20250709_211255.jpg\n"
          ]
        }
      ],
      "source": [
        "for filename in os.listdir(input_folder):\n",
        "  if filename.lower().endswith('.heic'):\n",
        "    heic_path = os.path.join(input_folder, filename)\n",
        "    heic_file = pyheif.read(heic_path)\n",
        "    image = Image.frombytes(\n",
        "        heic_file.mode,\n",
        "        heic_file.size,\n",
        "        heic_file.data,\n",
        "        \"raw\",\n",
        "        heic_file.mode,\n",
        "        heic_file.stride,\n",
        "    )\n",
        "    output_filename = filename.replace('.heic', '.jpg')\n",
        "    output_path = os.path.join(output_folder, output_filename)\n",
        "    image.save(output_path, 'JPEG')\n",
        "    print(f'Converted {filename} to {output_filename}')"
      ]
    },
    {
      "cell_type": "code",
      "source": [],
      "metadata": {
        "id": "urJgGQCbjbAX"
      },
      "execution_count": null,
      "outputs": []
    },
    {
      "cell_type": "code",
      "execution_count": null,
      "metadata": {
        "id": "Za5B5b2ASzjQ"
      },
      "outputs": [],
      "source": [
        "input_folder = '/content/drive/MyDrive/Gujarati_bill_datasets/pc/'\n",
        "output_folder = '/content/drive/MyDrive/New_Gujarati_bill_datasets/'"
      ]
    },
    {
      "cell_type": "code",
      "source": [
        "!ls 'drive/My Drive/Gujarati_bill_datasets/pc/'"
      ],
      "metadata": {
        "colab": {
          "base_uri": "https://localhost:8080/"
        },
        "id": "DUOcBdbTVLd0",
        "outputId": "0b6f98af-6844-4ac1-ff4b-7f677963db6a"
      },
      "execution_count": null,
      "outputs": [
        {
          "output_type": "stream",
          "name": "stdout",
          "text": [
            "20250709_105206.jpg   20250709_165633.heic  20250709_170451.heic\n",
            "20250709_105321.jpg   20250709_165643.heic  20250709_170514.heic\n",
            "20250709_145415.jpg   20250709_165653.heic  20250709_170524.heic\n",
            "20250709_145426.jpg   20250709_165703.heic  20250709_170551.heic\n",
            "20250709_145448.jpg   20250709_165716.heic  20250709_170615.heic\n",
            "20250709_145456.jpg   20250709_165731.heic  20250709_170628.heic\n",
            "20250709_152143.heic  20250709_165743.heic  20250709_170638.heic\n",
            "20250709_152153.heic  20250709_165751.heic  20250709_170650.heic\n",
            "20250709_152200.heic  20250709_165805.heic  20250709_170657.heic\n",
            "20250709_165057.heic  20250709_165814.heic  20250709_170703.heic\n",
            "20250709_165112.heic  20250709_165828.heic  20250709_170708.heic\n",
            "20250709_165128.heic  20250709_165953.heic  20250709_170713.heic\n",
            "20250709_165156.heic  20250709_170003.heic  20250709_170725.heic\n",
            "20250709_165204.heic  20250709_170014.heic  20250709_170750.heic\n",
            "20250709_165212.heic  20250709_170026.heic  20250709_170816.heic\n",
            "20250709_165222.heic  20250709_170041.heic  20250709_170824.heic\n",
            "20250709_165230.heic  20250709_170052.heic  20250709_170832.heic\n",
            "20250709_165247.heic  20250709_170101.heic  20250709_170843.heic\n",
            "20250709_165256.heic  20250709_170113.heic  20250709_170851.heic\n",
            "20250709_165338.heic  20250709_170121.heic  20250709_170858.heic\n",
            "20250709_165351.heic  20250709_170141.heic  20250709_170910.heic\n",
            "20250709_165357.heic  20250709_170150.heic  20250709_170926.heic\n",
            "20250709_165405.heic  20250709_170159.heic  20250709_170938.heic\n",
            "20250709_165412.heic  20250709_170209.heic  20250709_170946.heic\n",
            "20250709_165421.heic  20250709_170244.heic  20250709_170952.heic\n",
            "20250709_165427.heic  20250709_170257.heic  20250709_171003.heic\n",
            "20250709_165433.heic  20250709_170307.heic  20250709_171010.heic\n",
            "20250709_165448.heic  20250709_170319.heic  20250709_171016.heic\n",
            "20250709_165505.heic  20250709_170333.heic  20250709_171023.heic\n",
            "20250709_165515.heic  20250709_170347.heic  20250709_171031.heic\n",
            "20250709_165544.heic  20250709_170358.heic  20250709_171040.heic\n",
            "20250709_165608.heic  20250709_170416.heic  20250709_171047.heic\n",
            "20250709_165618.heic  20250709_170433.heic  20250709_171105.heic\n",
            "20250709_165625.heic  20250709_170443.heic\n"
          ]
        }
      ]
    },
    {
      "cell_type": "code",
      "execution_count": null,
      "metadata": {
        "colab": {
          "background_save": true,
          "base_uri": "https://localhost:8080/"
        },
        "id": "6Ip4VGgyS5De",
        "outputId": "665f9f32-b9ac-4317-9bde-faf04ac3c368"
      },
      "outputs": [
        {
          "name": "stdout",
          "output_type": "stream",
          "text": [
            "Converted 20250709_152143.heic to 20250709_152143.jpg\n",
            "Converted 20250709_152153.heic to 20250709_152153.jpg\n",
            "Converted 20250709_152200.heic to 20250709_152200.jpg\n",
            "Converted 20250709_165057.heic to 20250709_165057.jpg\n",
            "Converted 20250709_165112.heic to 20250709_165112.jpg\n",
            "Converted 20250709_165128.heic to 20250709_165128.jpg\n",
            "Converted 20250709_165156.heic to 20250709_165156.jpg\n",
            "Converted 20250709_165204.heic to 20250709_165204.jpg\n",
            "Converted 20250709_165212.heic to 20250709_165212.jpg\n",
            "Converted 20250709_165222.heic to 20250709_165222.jpg\n",
            "Converted 20250709_165230.heic to 20250709_165230.jpg\n",
            "Converted 20250709_165247.heic to 20250709_165247.jpg\n",
            "Converted 20250709_165256.heic to 20250709_165256.jpg\n",
            "Converted 20250709_165338.heic to 20250709_165338.jpg\n",
            "Converted 20250709_165351.heic to 20250709_165351.jpg\n",
            "Converted 20250709_165357.heic to 20250709_165357.jpg\n",
            "Converted 20250709_165405.heic to 20250709_165405.jpg\n",
            "Converted 20250709_165412.heic to 20250709_165412.jpg\n",
            "Converted 20250709_165421.heic to 20250709_165421.jpg\n",
            "Converted 20250709_165427.heic to 20250709_165427.jpg\n",
            "Converted 20250709_165433.heic to 20250709_165433.jpg\n",
            "Converted 20250709_165448.heic to 20250709_165448.jpg\n",
            "Converted 20250709_165505.heic to 20250709_165505.jpg\n",
            "Converted 20250709_165515.heic to 20250709_165515.jpg\n",
            "Converted 20250709_165544.heic to 20250709_165544.jpg\n",
            "Converted 20250709_165608.heic to 20250709_165608.jpg\n",
            "Converted 20250709_165618.heic to 20250709_165618.jpg\n",
            "Converted 20250709_165625.heic to 20250709_165625.jpg\n",
            "Converted 20250709_165633.heic to 20250709_165633.jpg\n",
            "Converted 20250709_165643.heic to 20250709_165643.jpg\n",
            "Converted 20250709_165653.heic to 20250709_165653.jpg\n",
            "Converted 20250709_165703.heic to 20250709_165703.jpg\n",
            "Converted 20250709_165716.heic to 20250709_165716.jpg\n",
            "Converted 20250709_165731.heic to 20250709_165731.jpg\n",
            "Converted 20250709_165743.heic to 20250709_165743.jpg\n",
            "Converted 20250709_165751.heic to 20250709_165751.jpg\n",
            "Converted 20250709_165805.heic to 20250709_165805.jpg\n",
            "Converted 20250709_165814.heic to 20250709_165814.jpg\n",
            "Converted 20250709_165828.heic to 20250709_165828.jpg\n",
            "Converted 20250709_165953.heic to 20250709_165953.jpg\n",
            "Converted 20250709_170003.heic to 20250709_170003.jpg\n",
            "Converted 20250709_170014.heic to 20250709_170014.jpg\n",
            "Converted 20250709_170026.heic to 20250709_170026.jpg\n",
            "Converted 20250709_170041.heic to 20250709_170041.jpg\n",
            "Converted 20250709_170052.heic to 20250709_170052.jpg\n",
            "Converted 20250709_170101.heic to 20250709_170101.jpg\n",
            "Converted 20250709_170113.heic to 20250709_170113.jpg\n",
            "Converted 20250709_170121.heic to 20250709_170121.jpg\n",
            "Converted 20250709_170141.heic to 20250709_170141.jpg\n",
            "Converted 20250709_170150.heic to 20250709_170150.jpg\n",
            "Converted 20250709_170159.heic to 20250709_170159.jpg\n",
            "Converted 20250709_170209.heic to 20250709_170209.jpg\n",
            "Converted 20250709_170244.heic to 20250709_170244.jpg\n",
            "Converted 20250709_170257.heic to 20250709_170257.jpg\n",
            "Converted 20250709_170307.heic to 20250709_170307.jpg\n",
            "Converted 20250709_170319.heic to 20250709_170319.jpg\n",
            "Converted 20250709_170333.heic to 20250709_170333.jpg\n",
            "Converted 20250709_170347.heic to 20250709_170347.jpg\n",
            "Converted 20250709_170358.heic to 20250709_170358.jpg\n",
            "Converted 20250709_170416.heic to 20250709_170416.jpg\n",
            "Converted 20250709_170433.heic to 20250709_170433.jpg\n",
            "Converted 20250709_170443.heic to 20250709_170443.jpg\n",
            "Converted 20250709_170451.heic to 20250709_170451.jpg\n",
            "Converted 20250709_170514.heic to 20250709_170514.jpg\n",
            "Converted 20250709_170524.heic to 20250709_170524.jpg\n",
            "Converted 20250709_170551.heic to 20250709_170551.jpg\n",
            "Converted 20250709_170615.heic to 20250709_170615.jpg\n",
            "Converted 20250709_170628.heic to 20250709_170628.jpg\n",
            "Converted 20250709_170638.heic to 20250709_170638.jpg\n",
            "Converted 20250709_170650.heic to 20250709_170650.jpg\n",
            "Converted 20250709_170657.heic to 20250709_170657.jpg\n",
            "Converted 20250709_170703.heic to 20250709_170703.jpg\n",
            "Converted 20250709_170708.heic to 20250709_170708.jpg\n",
            "Converted 20250709_170713.heic to 20250709_170713.jpg\n",
            "Converted 20250709_170725.heic to 20250709_170725.jpg\n",
            "Converted 20250709_170750.heic to 20250709_170750.jpg\n",
            "Converted 20250709_170816.heic to 20250709_170816.jpg\n",
            "Converted 20250709_170824.heic to 20250709_170824.jpg\n",
            "Converted 20250709_170832.heic to 20250709_170832.jpg\n",
            "Converted 20250709_170843.heic to 20250709_170843.jpg\n",
            "Converted 20250709_170851.heic to 20250709_170851.jpg\n",
            "Converted 20250709_170858.heic to 20250709_170858.jpg\n",
            "Converted 20250709_170910.heic to 20250709_170910.jpg\n",
            "Converted 20250709_170926.heic to 20250709_170926.jpg\n",
            "Converted 20250709_170938.heic to 20250709_170938.jpg\n",
            "Converted 20250709_170946.heic to 20250709_170946.jpg\n",
            "Converted 20250709_170952.heic to 20250709_170952.jpg\n",
            "Converted 20250709_171003.heic to 20250709_171003.jpg\n",
            "Converted 20250709_171010.heic to 20250709_171010.jpg\n",
            "Converted 20250709_171016.heic to 20250709_171016.jpg\n",
            "Converted 20250709_171023.heic to 20250709_171023.jpg\n",
            "Converted 20250709_171031.heic to 20250709_171031.jpg\n",
            "Converted 20250709_171040.heic to 20250709_171040.jpg\n",
            "Converted 20250709_171047.heic to 20250709_171047.jpg\n",
            "Converted 20250709_171105.heic to 20250709_171105.jpg\n"
          ]
        }
      ],
      "source": [
        "for filename in os.listdir(input_folder):\n",
        "  if filename.lower().endswith('.heic'):\n",
        "    heic_path = os.path.join(input_folder, filename)\n",
        "    heic_file = pyheif.read(heic_path)\n",
        "    image = Image.frombytes(\n",
        "        heic_file.mode,\n",
        "        heic_file.size,\n",
        "        heic_file.data,\n",
        "        \"raw\",\n",
        "        heic_file.mode,\n",
        "        heic_file.stride,\n",
        "    )\n",
        "    output_filename = filename.replace('.heic', '.jpg')\n",
        "    output_path = os.path.join(output_folder, output_filename)\n",
        "    image.save(output_path, 'JPEG')\n",
        "    print(f'Converted {filename} to {output_filename}')"
      ]
    },
    {
      "cell_type": "code",
      "source": [
        "img_path = '/content/drive/MyDrive/New_Gujarati_bill_datasets/20250709_165751.jpg'\n",
        "img = cv2.imread(img_path)\n",
        "plt.imshow(cv2.cvtColor(img, cv2.COLOR_BGR2RGB))\n",
        "plt.axis('off')\n",
        "plt.show()"
      ],
      "metadata": {
        "id": "IEHtTmpGWMK1",
        "colab": {
          "base_uri": "https://localhost:8080/",
          "height": 406
        },
        "outputId": "978d67a5-d0ef-46ef-9723-77d167207416"
      },
      "execution_count": null,
      "outputs": [
        {
          "output_type": "display_data",
          "data": {
            "text/plain": [
              "<Figure size 640x480 with 1 Axes>"
            ],
            "image/png": "[encoded data removed]"
          },
          "metadata": {}
        }
      ]
    },
    {
      "cell_type": "markdown",
      "source": [
        "Extract all the 0 to 9 digit from the from zip folder"
      ],
      "metadata": {
        "id": "y8lAQfjh-dMc"
      }
    },
    {
      "cell_type": "code",
      "source": [
        "zip_path = '/content/drive/MyDrive/New_Gujarati_bill_datasets/archive.zip'\n",
        "extract_to = '/content/drive/MyDrive/Gujarati_digit/'"
      ],
      "metadata": {
        "id": "B-5fBgmt_PbL"
      },
      "execution_count": null,
      "outputs": []
    },
    {
      "cell_type": "code",
      "source": [
        "os.makedirs(extract_to, exist_ok=True)\n",
        "with zipfile.ZipFile(zip_path, 'r') as zip_ref:\n",
        "  zip_ref.extractall(extract_to)\n",
        "print(\"✅ Extraction complete.\")"
      ],
      "metadata": {
        "colab": {
          "base_uri": "https://localhost:8080/"
        },
        "id": "1SHGTQ26BW1V",
        "outputId": "0612c603-d7b7-448e-fa4f-13d0bca40e4d"
      },
      "execution_count": null,
      "outputs": [
        {
          "output_type": "stream",
          "name": "stdout",
          "text": [
            "✅ Extraction complete.\n"
          ]
        }
      ]
    },
    {
      "cell_type": "markdown",
      "source": [
        "for the dividing into 30% & 70% ration gujarati digit into test and train datasets different folder 📂"
      ],
      "metadata": {
        "id": "iDqHxpJ0MIM5"
      }
    },
    {
      "cell_type": "code",
      "source": [
        "current_folder = int(input(\"enter the number: \"))\n",
        "# split data set into test and train with 30 and  70 ration\n",
        "dataset_path = f\"/content/drive/MyDrive/Gujarati_digit/{current_folder}/\"\n",
        "all_files = os.listdir(dataset_path)\n",
        "image_files = [f for f in all_files if f.endswith('.png')]\n",
        "sum = len(image_files)\n",
        "train_folder = f\"/content/drive/MyDrive/Gujarati_digit/{current_folder}/train/\"\n",
        "half = (len(image_files) * 70) / 100\n",
        "remaing = len(image_files) - int(half)\n",
        "\n",
        "\n",
        "# # Make train folder\n",
        "# os.makedirs('train')\n",
        "# for train datasets\n",
        "for i in range(int(half)):\n",
        "  # sourc file\n",
        "  src = dataset_path + f'{image_files[i]}'\n",
        "  # destination file\n",
        "  dst = train_folder + f'{image_files[i]}'\n",
        "  # copy over the file\n",
        "  # print(f\"file copy from {src} and paste at {dst}\")\n",
        "  os.rename(src, dst)\n",
        "\n",
        "# # for test datasets\n",
        "\n",
        "dataset_path = f\"/content/drive/MyDrive/Gujarati_digit/{current_folder}/\"\n",
        "all_files = os.listdir(dataset_path)\n",
        "image_files = [f for f in all_files if f.endswith('.png')]\n",
        "# print(\"Test file\", len(image_files), \"remaing\", remaing)\n",
        "# print(\"sum\", sum, \"total\", half+len(image_files))\n",
        "test_folder = f\"/content/drive/MyDrive/Gujarati_digit/{current_folder}/test/\"\n",
        "\n",
        "# # make test folder\n",
        "# os.makedirs('test')\n",
        "for i in range(len(image_files)):\n",
        "# for i in range(620):\n",
        "  # sourc file\n",
        "  src = dataset_path + f'{image_files[i]}'\n",
        "  # destination file\n",
        "  dst = test_folder + f'{image_files[i]}'\n",
        "  # copy over the file\n",
        "  # print(f\"file copy from {src} and paste at {dst}\")\n",
        "  os.rename(src, dst)\n",
        "print(\"Test file\", len(image_files), \"remaing\", remaing)\n",
        "print(\"sum\", sum, \"total\", half+len(image_files))"
      ],
      "metadata": {
        "colab": {
          "base_uri": "https://localhost:8080/"
        },
        "id": "0Xkda5W1L5QS",
        "outputId": "3ca8ac02-51f8-4b34-98c5-d39a198bf048"
      },
      "execution_count": 21,
      "outputs": [
        {
          "output_type": "stream",
          "name": "stdout",
          "text": [
            "enter the number: 9\n",
            "Test file 609 remaing 609\n",
            "sum 2029 total 2029.3\n"
          ]
        }
      ]
    }
  ],
  "metadata": {
    "colab": {
      "provenance": [],
      "authorship_tag": "ABX9TyOwK+aQStD94EfZljLID0Jp",
      "include_colab_link": true
    },
    "kernelspec": {
      "display_name": "Python 3",
      "name": "python3"
    },
    "language_info": {
      "name": "python"
    }
  },
  "nbformat": 4,
  "nbformat_minor": 0
}